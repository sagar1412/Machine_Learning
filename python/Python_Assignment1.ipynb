{
 "cells": [
  {
   "cell_type": "code",
   "execution_count": null,
   "id": "06719a58-a32b-4863-937d-7010dc33d4e5",
   "metadata": {},
   "outputs": [],
   "source": [
    "#Question\n",
    "\"\"\"\n",
    "1. In the below elements which of them are values or an expression? eg:- values can be\n",
    "integer or string and expressions will be mathematical operators.\n",
    "\n",
    "1.*\n",
    "2.'hello'\n",
    "3.-87.8\n",
    "4.-\n",
    "5./\n",
    "6.+\n",
    "7.6\n",
    "\n",
    "\"\"\"\n",
    "\n",
    "#Ans:\n",
    "    \n",
    "\"\"\"\n",
    "1.*       --> Mathematical Operator (Multiplication)\n",
    "2.'hello' --> String\n",
    "3.-87.8   --> Float\n",
    "4.-       --> Mathematical Operator (Subtraction)\n",
    "5./       --> Mathematical Operator (Division)\n",
    "6.+       --> Mathematical Operator (Addition)\n",
    "7.6       --> Integer\n",
    "\"\"\"\n",
    "\n",
    "\n"
   ]
  },
  {
   "cell_type": "code",
   "execution_count": null,
   "id": "09b95629-78b6-4ecd-9a3a-8e2a716f1240",
   "metadata": {},
   "outputs": [],
   "source": [
    "#Question\n",
    "\"\"\"\n",
    "2. What is the difference between string and variable?\n",
    "\"\"\"\n",
    "\n",
    "#Ans:\n",
    "\n",
    "\"\"\"\n",
    "-->String is Collection of Character which is enclosed in double qoutes eg:\"Python\"\n",
    "-->Variable is set of charater or a charater holding a values is called a Variable eg: x=10 [Here x is Variable] \n",
    "\"\"\""
   ]
  },
  {
   "cell_type": "code",
   "execution_count": null,
   "id": "02d26c16-0854-4494-a176-73e949b1e72c",
   "metadata": {},
   "outputs": [],
   "source": [
    "#Question\n",
    "\"\"\"\n",
    "3.Describe three different data types.\n",
    "\"\"\"\n",
    "#Ans:\n",
    "\"\"\"\n",
    "1.Numerical:\n",
    "    a.Int\n",
    "    b.Float\n",
    "    c.Complex\n",
    "2.String\n",
    "3.List\n",
    "4.Dict\n",
    "5.Set\n",
    "6.Tuple\n",
    "\"\"\""
   ]
  },
  {
   "cell_type": "code",
   "execution_count": null,
   "id": "c26c5644-8ffd-4070-bbbd-5aacbd61a1d4",
   "metadata": {},
   "outputs": [],
   "source": [
    "#Question\n",
    "\"\"\"\n",
    "4.What is an expression made up of? What do all expressions do?\n",
    "\n",
    "\"\"\"\n",
    "\n",
    "#Ans:\n",
    "\"\"\"\n",
    "An expression is a combination of operators and operands that is interpreted to produce some other value.\n",
    "\n",
    "\n",
    "\"\"\""
   ]
  },
  {
   "cell_type": "code",
   "execution_count": null,
   "id": "dbeaf8a1-1dd8-45fe-b55c-b85312a6f8ed",
   "metadata": {},
   "outputs": [],
   "source": [
    "#Question\n",
    "\"\"\"\n",
    "5.This assignment statements, like spam = 10. What is the difference between an\n",
    "expression and a statement?\n",
    "\"\"\"\n",
    "#Ans:\n",
    "\n",
    "\"\"\"\n",
    "An expression is a statement that returns a value.\n",
    "Statements represent an action or command e.g print statements, assignment statements.\n",
    "\n",
    "\n",
    "\"\"\""
   ]
  },
  {
   "cell_type": "code",
   "execution_count": null,
   "id": "7d79e67e-ee6c-4b20-a933-1837a2feea50",
   "metadata": {},
   "outputs": [],
   "source": [
    "#Question\n",
    "\"\"\"\n",
    "6. After running the following code, what does the variable bacon contain?\n",
    "    bacon = 22\n",
    "    bacon + 1\n",
    "\n",
    "\"\"\"\n",
    "#Ans:\n",
    "\n",
    "\"\"\"\n",
    "23\n",
    "\"\"\""
   ]
  },
  {
   "cell_type": "code",
   "execution_count": 2,
   "id": "e4efb045-108a-44e4-b831-f434edb9433b",
   "metadata": {},
   "outputs": [
    {
     "data": {
      "text/plain": [
       "23"
      ]
     },
     "execution_count": 2,
     "metadata": {},
     "output_type": "execute_result"
    }
   ],
   "source": [
    "bacon = 22\n",
    "bacon + 1\n"
   ]
  },
  {
   "cell_type": "code",
   "execution_count": null,
   "id": "876ef3c7-e023-41e2-8d7f-19fa5f5e2383",
   "metadata": {},
   "outputs": [],
   "source": [
    "#Question\n",
    "\n",
    "\"\"\"\n",
    "7. What should the values of the following two terms be?\n",
    "'spam' + 'spamspam'\n",
    "'spam' * 3\n",
    "\"\"\"\n",
    "#Ans:\n",
    "\n",
    "\"\"\"\n",
    "both the terms return the same value\n",
    "'spamspamspam'\n",
    "\"\"\""
   ]
  },
  {
   "cell_type": "code",
   "execution_count": 4,
   "id": "57eea784-a671-42c1-b817-9a7e28db0230",
   "metadata": {},
   "outputs": [
    {
     "data": {
      "text/plain": [
       "'spamspamspam'"
      ]
     },
     "execution_count": 4,
     "metadata": {},
     "output_type": "execute_result"
    }
   ],
   "source": [
    "'spam' + 'spamspam'\n",
    "#'spam' * 3"
   ]
  },
  {
   "cell_type": "code",
   "execution_count": null,
   "id": "78461b69-fa04-4b2b-a40d-5c8835736c43",
   "metadata": {},
   "outputs": [],
   "source": [
    "#Question\n",
    "\"\"\"\n",
    "8. Why is eggs a valid variable name while 100 is invalid?\n",
    "\n",
    "\"\"\"\n",
    "\n",
    "#Ans:\n",
    "\"\"\"\n",
    "As eggs is group of charater it  can be considered as a variable,where as 100 is interger data type \n",
    "it can not hold a value as itself holds a value of 100 \n",
    "\n",
    "\"\"\""
   ]
  },
  {
   "cell_type": "code",
   "execution_count": null,
   "id": "2fa70992-8f07-4e33-9059-219be8661eb3",
   "metadata": {},
   "outputs": [],
   "source": [
    "#Question\n",
    "\"\"\"\n",
    "9. What three functions can be used to get the integer, floating-point number, or string\n",
    "version of a value?\n",
    "\n",
    "\"\"\"\n",
    "\n",
    "#Ans:\n",
    "\"\"\"\n",
    "int()\n",
    "float()\n",
    "str()\n",
    "\n",
    "\"\"\""
   ]
  },
  {
   "cell_type": "code",
   "execution_count": null,
   "id": "101e6e19-e157-41b3-93d3-ae891a453198",
   "metadata": {},
   "outputs": [],
   "source": [
    "#Question\n",
    "\"\"\"\n",
    "10. Why does this expression cause an error? How can you fix it?\n",
    "'I have eaten ' + 99 + ' burritos.'\n",
    "\n",
    "\"\"\"\n",
    "\n",
    "#Ans:\n",
    "\"\"\"\n",
    "The error is because as there is no match in data types while concating that is we are concating \n",
    "str + int the ablove expression will work if we concate by converting 99 to str(99)\n",
    "\n",
    "\"\"\""
   ]
  },
  {
   "cell_type": "code",
   "execution_count": 6,
   "id": "99a4fcee-fcec-4a0a-858f-c3217d271eaf",
   "metadata": {},
   "outputs": [
    {
     "data": {
      "text/plain": [
       "'I have eaten 99 burritos.'"
      ]
     },
     "execution_count": 6,
     "metadata": {},
     "output_type": "execute_result"
    }
   ],
   "source": [
    "'I have eaten ' +str(99) + ' burritos.'"
   ]
  },
  {
   "cell_type": "code",
   "execution_count": null,
   "id": "2b32fcf2-2f3e-4f1b-a2c0-d4495c2a161f",
   "metadata": {},
   "outputs": [],
   "source": []
  }
 ],
 "metadata": {
  "kernelspec": {
   "display_name": "Python 3",
   "language": "python",
   "name": "python3"
  },
  "language_info": {
   "codemirror_mode": {
    "name": "ipython",
    "version": 3
   },
   "file_extension": ".py",
   "mimetype": "text/x-python",
   "name": "python",
   "nbconvert_exporter": "python",
   "pygments_lexer": "ipython3",
   "version": "3.8.11"
  }
 },
 "nbformat": 4,
 "nbformat_minor": 5
}
